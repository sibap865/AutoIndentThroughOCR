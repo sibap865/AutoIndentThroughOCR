{
 "cells": [
  {
   "cell_type": "code",
   "execution_count": 1,
   "id": "14f04461",
   "metadata": {},
   "outputs": [],
   "source": [
    "import pandas as pd\n",
    "import numpy as np"
   ]
  },
  {
   "cell_type": "code",
   "execution_count": 15,
   "id": "c2fc7f57",
   "metadata": {},
   "outputs": [],
   "source": [
    "df = pd.read_excel('Printer_sheet_list.xlsx')"
   ]
  },
  {
   "cell_type": "code",
   "execution_count": 16,
   "id": "9d9c7e4c",
   "metadata": {},
   "outputs": [
    {
     "data": {
      "text/html": [
       "<div>\n",
       "<style scoped>\n",
       "    .dataframe tbody tr th:only-of-type {\n",
       "        vertical-align: middle;\n",
       "    }\n",
       "\n",
       "    .dataframe tbody tr th {\n",
       "        vertical-align: top;\n",
       "    }\n",
       "\n",
       "    .dataframe thead th {\n",
       "        text-align: right;\n",
       "    }\n",
       "</style>\n",
       "<table border=\"1\" class=\"dataframe\">\n",
       "  <thead>\n",
       "    <tr style=\"text-align: right;\">\n",
       "      <th></th>\n",
       "      <th>Machine</th>\n",
       "      <th>Part Name</th>\n",
       "      <th>Description</th>\n",
       "      <th>STOCK</th>\n",
       "      <th>LOCATION</th>\n",
       "    </tr>\n",
       "  </thead>\n",
       "  <tbody>\n",
       "    <tr>\n",
       "      <th>0</th>\n",
       "      <td>Printer LID</td>\n",
       "      <td>Timing belt</td>\n",
       "      <td>Timing belt, L430,w15,5M</td>\n",
       "      <td>NaN</td>\n",
       "      <td>NaN</td>\n",
       "    </tr>\n",
       "    <tr>\n",
       "      <th>1</th>\n",
       "      <td>Printer AOI</td>\n",
       "      <td>Timing belt</td>\n",
       "      <td>Timing belt, L265,w15,5M</td>\n",
       "      <td>8.0</td>\n",
       "      <td>R-13/D</td>\n",
       "    </tr>\n",
       "    <tr>\n",
       "      <th>2</th>\n",
       "      <td>Printer</td>\n",
       "      <td>VACCUM PAD</td>\n",
       "      <td>3M, AS PER DRAWING, FOR PRINTER PICKER</td>\n",
       "      <td>NaN</td>\n",
       "      <td>RACK-03/C</td>\n",
       "    </tr>\n",
       "    <tr>\n",
       "      <th>3</th>\n",
       "      <td>Printer</td>\n",
       "      <td>Quick release coupling</td>\n",
       "      <td>Quick release SS coupling 1/2 '' both end fema...</td>\n",
       "      <td>8.0</td>\n",
       "      <td>R-27/C</td>\n",
       "    </tr>\n",
       "    <tr>\n",
       "      <th>4</th>\n",
       "      <td>PRINTER</td>\n",
       "      <td>VFD</td>\n",
       "      <td>VFD-Delta-VFD2A8MS21ANSAA</td>\n",
       "      <td>2.0</td>\n",
       "      <td>R-27/B</td>\n",
       "    </tr>\n",
       "  </tbody>\n",
       "</table>\n",
       "</div>"
      ],
      "text/plain": [
       "       Machine               Part Name  \\\n",
       "0  Printer LID             Timing belt   \n",
       "1  Printer AOI             Timing belt   \n",
       "2      Printer              VACCUM PAD   \n",
       "3      Printer  Quick release coupling   \n",
       "4      PRINTER                     VFD   \n",
       "\n",
       "                                         Description  STOCK   LOCATION  \n",
       "0                           Timing belt, L430,w15,5M    NaN        NaN  \n",
       "1                           Timing belt, L265,w15,5M    8.0     R-13/D  \n",
       "2             3M, AS PER DRAWING, FOR PRINTER PICKER    NaN  RACK-03/C  \n",
       "3  Quick release SS coupling 1/2 '' both end fema...    8.0     R-27/C  \n",
       "4                          VFD-Delta-VFD2A8MS21ANSAA    2.0     R-27/B  "
      ]
     },
     "execution_count": 16,
     "metadata": {},
     "output_type": "execute_result"
    }
   ],
   "source": [
    "df.head()"
   ]
  },
  {
   "cell_type": "code",
   "execution_count": 17,
   "id": "e5b69911",
   "metadata": {},
   "outputs": [
    {
     "data": {
      "text/plain": [
       "array([nan, 'R-13/D', 'RACK-03/C', 'R-27/C', 'R-27/B', 'R-27/D', 'AL-22',\n",
       "       'R-13/C', 'R-27/A', 'R-03/B', 'R-16/B', 'AL-118', 'R-17/C',\n",
       "       'R-1/A', 'R-14/A', 'R-26/C', 'Maintenance Back Side', 'R-18/A',\n",
       "       'R-9/A', 'R-25/B', 'R-18/C', 'AL-291/Bottom', 'R-12/C', 'R-12/D',\n",
       "       'R-14/C', 'AL-291', '16/A', 'AL/22', 'R-26/A'], dtype=object)"
      ]
     },
     "execution_count": 17,
     "metadata": {},
     "output_type": "execute_result"
    }
   ],
   "source": [
    "df['LOCATION'].unique()"
   ]
  },
  {
   "cell_type": "code",
   "execution_count": 18,
   "id": "0fca4ed1",
   "metadata": {
    "vscode": {
     "languageId": "ruby"
    }
   },
   "outputs": [],
   "source": [
    "# Preprocess the columns\n",
    "df['Machine'] = df['Machine'].str.strip().str.lower()\n",
    "df['Part Name'] = df['Part Name'].str.strip().str.lower()\n",
    "df['Description'] = df['Description'].str.strip().str.lower()"
   ]
  },
  {
   "cell_type": "code",
   "execution_count": 19,
   "id": "e1daee34",
   "metadata": {},
   "outputs": [
    {
     "data": {
      "text/html": [
       "<div>\n",
       "<style scoped>\n",
       "    .dataframe tbody tr th:only-of-type {\n",
       "        vertical-align: middle;\n",
       "    }\n",
       "\n",
       "    .dataframe tbody tr th {\n",
       "        vertical-align: top;\n",
       "    }\n",
       "\n",
       "    .dataframe thead th {\n",
       "        text-align: right;\n",
       "    }\n",
       "</style>\n",
       "<table border=\"1\" class=\"dataframe\">\n",
       "  <thead>\n",
       "    <tr style=\"text-align: right;\">\n",
       "      <th></th>\n",
       "      <th>Machine</th>\n",
       "      <th>Part Name</th>\n",
       "      <th>Description</th>\n",
       "      <th>STOCK</th>\n",
       "      <th>LOCATION</th>\n",
       "    </tr>\n",
       "  </thead>\n",
       "  <tbody>\n",
       "    <tr>\n",
       "      <th>0</th>\n",
       "      <td>printer lid</td>\n",
       "      <td>timing belt</td>\n",
       "      <td>timing belt, l430,w15,5m</td>\n",
       "      <td>NaN</td>\n",
       "      <td>NaN</td>\n",
       "    </tr>\n",
       "    <tr>\n",
       "      <th>1</th>\n",
       "      <td>printer aoi</td>\n",
       "      <td>timing belt</td>\n",
       "      <td>timing belt, l265,w15,5m</td>\n",
       "      <td>8.0</td>\n",
       "      <td>R-13/D</td>\n",
       "    </tr>\n",
       "    <tr>\n",
       "      <th>2</th>\n",
       "      <td>printer</td>\n",
       "      <td>vaccum pad</td>\n",
       "      <td>3m, as per drawing, for printer picker</td>\n",
       "      <td>NaN</td>\n",
       "      <td>RACK-03/C</td>\n",
       "    </tr>\n",
       "    <tr>\n",
       "      <th>3</th>\n",
       "      <td>printer</td>\n",
       "      <td>quick release coupling</td>\n",
       "      <td>quick release ss coupling 1/2 '' both end fema...</td>\n",
       "      <td>8.0</td>\n",
       "      <td>R-27/C</td>\n",
       "    </tr>\n",
       "    <tr>\n",
       "      <th>4</th>\n",
       "      <td>printer</td>\n",
       "      <td>vfd</td>\n",
       "      <td>vfd-delta-vfd2a8ms21ansaa</td>\n",
       "      <td>2.0</td>\n",
       "      <td>R-27/B</td>\n",
       "    </tr>\n",
       "  </tbody>\n",
       "</table>\n",
       "</div>"
      ],
      "text/plain": [
       "       Machine               Part Name  \\\n",
       "0  printer lid             timing belt   \n",
       "1  printer aoi             timing belt   \n",
       "2      printer              vaccum pad   \n",
       "3      printer  quick release coupling   \n",
       "4      printer                     vfd   \n",
       "\n",
       "                                         Description  STOCK   LOCATION  \n",
       "0                           timing belt, l430,w15,5m    NaN        NaN  \n",
       "1                           timing belt, l265,w15,5m    8.0     R-13/D  \n",
       "2             3m, as per drawing, for printer picker    NaN  RACK-03/C  \n",
       "3  quick release ss coupling 1/2 '' both end fema...    8.0     R-27/C  \n",
       "4                          vfd-delta-vfd2a8ms21ansaa    2.0     R-27/B  "
      ]
     },
     "execution_count": 19,
     "metadata": {},
     "output_type": "execute_result"
    }
   ],
   "source": [
    "df.head()"
   ]
  },
  {
   "cell_type": "code",
   "execution_count": 20,
   "id": "d9b90121",
   "metadata": {},
   "outputs": [
    {
     "data": {
      "text/plain": [
       "(306, 5)"
      ]
     },
     "execution_count": 20,
     "metadata": {},
     "output_type": "execute_result"
    }
   ],
   "source": [
    "df.shape"
   ]
  },
  {
   "cell_type": "code",
   "execution_count": 21,
   "id": "3477c94e",
   "metadata": {},
   "outputs": [],
   "source": [
    "df.to_csv(\"printer_sheet_15_04_25.csv\", index=False)"
   ]
  },
  {
   "cell_type": "code",
   "execution_count": 22,
   "id": "877af585",
   "metadata": {},
   "outputs": [
    {
     "data": {
      "text/html": [
       "<div>\n",
       "<style scoped>\n",
       "    .dataframe tbody tr th:only-of-type {\n",
       "        vertical-align: middle;\n",
       "    }\n",
       "\n",
       "    .dataframe tbody tr th {\n",
       "        vertical-align: top;\n",
       "    }\n",
       "\n",
       "    .dataframe thead th {\n",
       "        text-align: right;\n",
       "    }\n",
       "</style>\n",
       "<table border=\"1\" class=\"dataframe\">\n",
       "  <thead>\n",
       "    <tr style=\"text-align: right;\">\n",
       "      <th></th>\n",
       "      <th>Machine</th>\n",
       "      <th>Part Name</th>\n",
       "      <th>Description</th>\n",
       "      <th>STOCK</th>\n",
       "      <th>LOCATION</th>\n",
       "    </tr>\n",
       "  </thead>\n",
       "  <tbody>\n",
       "    <tr>\n",
       "      <th>123</th>\n",
       "      <td>printer</td>\n",
       "      <td>photoelectric sensor</td>\n",
       "      <td>e3z-r61</td>\n",
       "      <td>4.0</td>\n",
       "      <td>R-1/A</td>\n",
       "    </tr>\n",
       "  </tbody>\n",
       "</table>\n",
       "</div>"
      ],
      "text/plain": [
       "     Machine             Part Name Description  STOCK LOCATION\n",
       "123  printer  photoelectric sensor     e3z-r61    4.0    R-1/A"
      ]
     },
     "execution_count": 22,
     "metadata": {},
     "output_type": "execute_result"
    }
   ],
   "source": [
    "filtered_df = df[df[\"Description\"].str.contains(\"e3z\", case=False, na=False)]\n",
    "filtered_df"
   ]
  },
  {
   "cell_type": "code",
   "execution_count": 24,
   "id": "6fe877dc",
   "metadata": {},
   "outputs": [
    {
     "data": {
      "text/plain": [
       "123    photoelectricsensor\n",
       "Name: Part Name, dtype: object"
      ]
     },
     "execution_count": 24,
     "metadata": {},
     "output_type": "execute_result"
    }
   ],
   "source": [
    "filtered_df['Part Name'].str.replace(' ','')"
   ]
  },
  {
   "cell_type": "code",
   "execution_count": null,
   "id": "9b5dcae6",
   "metadata": {},
   "outputs": [],
   "source": []
  }
 ],
 "metadata": {
  "kernelspec": {
   "display_name": "venv",
   "language": "python",
   "name": "python3"
  },
  "language_info": {
   "codemirror_mode": {
    "name": "ipython",
    "version": 3
   },
   "file_extension": ".py",
   "mimetype": "text/x-python",
   "name": "python",
   "nbconvert_exporter": "python",
   "pygments_lexer": "ipython3",
   "version": "3.13.3"
  }
 },
 "nbformat": 4,
 "nbformat_minor": 5
}
